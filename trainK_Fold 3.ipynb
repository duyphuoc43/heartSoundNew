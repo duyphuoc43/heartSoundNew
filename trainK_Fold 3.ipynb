{
 "cells": [
  {
   "cell_type": "code",
   "execution_count": 1,
   "metadata": {},
   "outputs": [
    {
     "name": "stderr",
     "output_type": "stream",
     "text": [
      "2023-11-01 15:23:43.762168: E tensorflow/compiler/xla/stream_executor/cuda/cuda_dnn.cc:9342] Unable to register cuDNN factory: Attempting to register factory for plugin cuDNN when one has already been registered\n",
      "2023-11-01 15:23:43.762206: E tensorflow/compiler/xla/stream_executor/cuda/cuda_fft.cc:609] Unable to register cuFFT factory: Attempting to register factory for plugin cuFFT when one has already been registered\n",
      "2023-11-01 15:23:43.762248: E tensorflow/compiler/xla/stream_executor/cuda/cuda_blas.cc:1518] Unable to register cuBLAS factory: Attempting to register factory for plugin cuBLAS when one has already been registered\n",
      "2023-11-01 15:23:43.769877: I tensorflow/core/platform/cpu_feature_guard.cc:182] This TensorFlow binary is optimized to use available CPU instructions in performance-critical operations.\n",
      "To enable the following instructions: AVX2 FMA, in other operations, rebuild TensorFlow with the appropriate compiler flags.\n"
     ]
    }
   ],
   "source": [
    "import pandas as pd\n",
    "import numpy as np\n",
    "import librosa\n",
    "import librosa.display\n",
    "import matplotlib.pyplot as plt\n",
    "import os\n",
    "import shutil\n",
    "from sklearn.model_selection import train_test_split,StratifiedShuffleSplit\n",
    "from sklearn.preprocessing import LabelBinarizer\n",
    "import pickle\n",
    "import tensorflow as tf\n",
    "from tensorflow.keras.models import Sequential\n",
    "from tensorflow.keras.layers import Conv2D, MaxPooling2D, BatchNormalization, LSTM, Dense, Dropout, Flatten\n",
    "from tensorflow.keras.callbacks import ModelCheckpoint, TensorBoard\n"
   ]
  },
  {
   "cell_type": "code",
   "execution_count": 2,
   "metadata": {},
   "outputs": [],
   "source": [
    "file_data_split = open('data_split.csv', 'rb')\n",
    "data = pickle.load(file_data_split)\n",
    "x_data,y_data = data\n",
    "file_data_split.close()\n",
    "\n",
    "x_train = np.concatenate((x_data[0], x_data[1],x_data[3]),axis=0)\n",
    "y_train = np.concatenate((y_data[0], y_data[1],y_data[3]),axis=0)\n",
    "x_test = x_data[2]\n",
    "y_test = y_data[2]\n",
    "\n",
    "\n",
    "encoder = LabelBinarizer()\n",
    "y_train=encoder.fit_transform(y_train)\n",
    "y_test=encoder.fit_transform(y_test)"
   ]
  },
  {
   "cell_type": "code",
   "execution_count": 3,
   "metadata": {},
   "outputs": [],
   "source": [
    "def show_history():\n",
    "\n",
    "    accuracy = history.history['accuracy']\n",
    "    val_accuracy = history.history['val_accuracy']\n",
    "    loss = history.history['loss']\n",
    "    val_loss = history.history['val_loss']\n",
    "\n",
    "    plt.figure(figsize=(12, 6))\n",
    "\n",
    "    plt.subplot(1, 2, 1)\n",
    "    plt.plot(accuracy, label='Training Accuracy')\n",
    "    plt.plot(val_accuracy, label='Validation Accuracy')\n",
    "    plt.xlabel('Epochs')\n",
    "    plt.ylabel('Accuracy')\n",
    "    plt.ylim(0, 1)  \n",
    "    plt.legend()\n",
    "\n",
    "    plt.subplot(1, 2, 2)\n",
    "    plt.plot(loss, label='Training Loss')\n",
    "    plt.plot(val_loss, label='Validation Loss')\n",
    "    plt.xlabel('Epochs')\n",
    "    plt.ylabel('Loss')\n",
    "    plt.ylim(0, 1)\n",
    "    plt.legend()\n",
    "\n",
    "    plt.show()"
   ]
  },
  {
   "cell_type": "code",
   "execution_count": 4,
   "metadata": {},
   "outputs": [
    {
     "name": "stderr",
     "output_type": "stream",
     "text": [
      "2023-11-01 15:23:47.785991: I tensorflow/compiler/xla/stream_executor/cuda/cuda_gpu_executor.cc:894] successful NUMA node read from SysFS had negative value (-1), but there must be at least one NUMA node, so returning NUMA node zero. See more at https://github.com/torvalds/linux/blob/v6.0/Documentation/ABI/testing/sysfs-bus-pci#L344-L355\n",
      "2023-11-01 15:23:47.792443: I tensorflow/compiler/xla/stream_executor/cuda/cuda_gpu_executor.cc:894] successful NUMA node read from SysFS had negative value (-1), but there must be at least one NUMA node, so returning NUMA node zero. See more at https://github.com/torvalds/linux/blob/v6.0/Documentation/ABI/testing/sysfs-bus-pci#L344-L355\n",
      "2023-11-01 15:23:47.792743: I tensorflow/compiler/xla/stream_executor/cuda/cuda_gpu_executor.cc:894] successful NUMA node read from SysFS had negative value (-1), but there must be at least one NUMA node, so returning NUMA node zero. See more at https://github.com/torvalds/linux/blob/v6.0/Documentation/ABI/testing/sysfs-bus-pci#L344-L355\n"
     ]
    },
    {
     "name": "stdout",
     "output_type": "stream",
     "text": [
      "Model: \"sequential\"\n",
      "_________________________________________________________________\n",
      " Layer (type)                Output Shape              Param #   \n",
      "=================================================================\n",
      " conv2d (Conv2D)             (None, 64, 64, 64)        1664      \n",
      "                                                                 \n",
      " max_pooling2d (MaxPooling2  (None, 13, 13, 64)        0         \n",
      " D)                                                              \n",
      "                                                                 \n",
      " conv2d_1 (Conv2D)           (None, 13, 13, 128)       204928    \n",
      "                                                                 \n",
      " max_pooling2d_1 (MaxPoolin  (None, 3, 3, 128)         0         \n",
      " g2D)                                                            \n",
      "                                                                 \n",
      " conv2d_2 (Conv2D)           (None, 3, 3, 256)         819456    \n",
      "                                                                 \n",
      " max_pooling2d_2 (MaxPoolin  (None, 1, 1, 256)         0         \n",
      " g2D)                                                            \n",
      "                                                                 \n",
      " batch_normalization (Batch  (None, 1, 1, 256)         1024      \n",
      " Normalization)                                                  \n",
      "                                                                 \n",
      " flatten (Flatten)           (None, 256)               0         \n",
      "                                                                 \n",
      " dense (Dense)               (None, 512)               131584    \n",
      "                                                                 \n",
      " dense_1 (Dense)             (None, 128)               65664     \n",
      "                                                                 \n",
      " dense_2 (Dense)             (None, 64)                8256      \n",
      "                                                                 \n",
      " dense_3 (Dense)             (None, 3)                 195       \n",
      "                                                                 \n",
      "=================================================================\n",
      "Total params: 1232771 (4.70 MB)\n",
      "Trainable params: 1232259 (4.70 MB)\n",
      "Non-trainable params: 512 (2.00 KB)\n",
      "_________________________________________________________________\n"
     ]
    },
    {
     "name": "stderr",
     "output_type": "stream",
     "text": [
      "2023-11-01 15:23:47.794519: I tensorflow/compiler/xla/stream_executor/cuda/cuda_gpu_executor.cc:894] successful NUMA node read from SysFS had negative value (-1), but there must be at least one NUMA node, so returning NUMA node zero. See more at https://github.com/torvalds/linux/blob/v6.0/Documentation/ABI/testing/sysfs-bus-pci#L344-L355\n",
      "2023-11-01 15:23:47.794779: I tensorflow/compiler/xla/stream_executor/cuda/cuda_gpu_executor.cc:894] successful NUMA node read from SysFS had negative value (-1), but there must be at least one NUMA node, so returning NUMA node zero. See more at https://github.com/torvalds/linux/blob/v6.0/Documentation/ABI/testing/sysfs-bus-pci#L344-L355\n",
      "2023-11-01 15:23:47.794977: I tensorflow/compiler/xla/stream_executor/cuda/cuda_gpu_executor.cc:894] successful NUMA node read from SysFS had negative value (-1), but there must be at least one NUMA node, so returning NUMA node zero. See more at https://github.com/torvalds/linux/blob/v6.0/Documentation/ABI/testing/sysfs-bus-pci#L344-L355\n",
      "2023-11-01 15:23:48.334079: I tensorflow/compiler/xla/stream_executor/cuda/cuda_gpu_executor.cc:894] successful NUMA node read from SysFS had negative value (-1), but there must be at least one NUMA node, so returning NUMA node zero. See more at https://github.com/torvalds/linux/blob/v6.0/Documentation/ABI/testing/sysfs-bus-pci#L344-L355\n",
      "2023-11-01 15:23:48.334345: I tensorflow/compiler/xla/stream_executor/cuda/cuda_gpu_executor.cc:894] successful NUMA node read from SysFS had negative value (-1), but there must be at least one NUMA node, so returning NUMA node zero. See more at https://github.com/torvalds/linux/blob/v6.0/Documentation/ABI/testing/sysfs-bus-pci#L344-L355\n",
      "2023-11-01 15:23:48.334605: I tensorflow/compiler/xla/stream_executor/cuda/cuda_gpu_executor.cc:894] successful NUMA node read from SysFS had negative value (-1), but there must be at least one NUMA node, so returning NUMA node zero. See more at https://github.com/torvalds/linux/blob/v6.0/Documentation/ABI/testing/sysfs-bus-pci#L344-L355\n",
      "2023-11-01 15:23:48.334772: I tensorflow/core/common_runtime/gpu/gpu_device.cc:1886] Created device /job:localhost/replica:0/task:0/device:GPU:0 with 3928 MB memory:  -> device: 0, name: NVIDIA GeForce RTX 3060 Laptop GPU, pci bus id: 0000:01:00.0, compute capability: 8.6\n"
     ]
    }
   ],
   "source": [
    "\n",
    "input_shape = x_test[1].shape\n",
    "\n",
    "model = Sequential()\n",
    "\n",
    "model.add(Conv2D(64, kernel_size=(5, 5), strides=(1, 1), padding='same', activation='relu', input_shape=input_shape))\n",
    "model.add(MaxPooling2D(pool_size=(5, 5), strides=(5, 5), padding='same'))\n",
    "\n",
    "model.add(Conv2D(128, kernel_size=(5, 5), strides=(1, 1), padding='same', activation='relu'))\n",
    "model.add(MaxPooling2D(pool_size=(5, 5), strides=(5, 5), padding='same'))\n",
    "\n",
    "model.add(Conv2D(256, kernel_size=(5, 5), strides=(1, 1), padding='same', activation='relu'))\n",
    "model.add(MaxPooling2D(pool_size=(5, 5), strides=(5, 5), padding='same'))\n",
    "\n",
    "model.add(BatchNormalization())\n",
    "\n",
    "model.add(Flatten())\n",
    "\n",
    "model.add(Dense(512, activation='relu'))\n",
    "model.add(Dense(128, activation='relu'))\n",
    "model.add(Dense(64, activation='relu'))\n",
    "\n",
    "model.add(Dense(3, activation='softmax'))\n",
    "\n",
    "model.compile(optimizer='adam', loss='MSE', metrics=['accuracy'])\n",
    "\n",
    "model_checkpoint = ModelCheckpoint('best_model_3.h5', monitor='val_accuracy', save_best_only=True, mode='max', verbose=1)\n",
    "model.summary()"
   ]
  },
  {
   "cell_type": "code",
   "execution_count": 5,
   "metadata": {},
   "outputs": [
    {
     "name": "stdout",
     "output_type": "stream",
     "text": [
      "Epoch 1/10\n"
     ]
    },
    {
     "name": "stderr",
     "output_type": "stream",
     "text": [
      "2023-11-01 15:23:50.827242: I tensorflow/compiler/xla/stream_executor/cuda/cuda_dnn.cc:442] Loaded cuDNN version 8700\n",
      "2023-11-01 15:23:51.956537: I tensorflow/compiler/xla/service/service.cc:168] XLA service 0x7f66c0004a60 initialized for platform CUDA (this does not guarantee that XLA will be used). Devices:\n",
      "2023-11-01 15:23:51.956572: I tensorflow/compiler/xla/service/service.cc:176]   StreamExecutor device (0): NVIDIA GeForce RTX 3060 Laptop GPU, Compute Capability 8.6\n",
      "2023-11-01 15:23:51.961794: I tensorflow/compiler/mlir/tensorflow/utils/dump_mlir_util.cc:269] disabling MLIR crash reproducer, set env var `MLIR_CRASH_REPRODUCER_DIRECTORY` to enable.\n",
      "2023-11-01 15:23:52.039680: I ./tensorflow/compiler/jit/device_compiler.h:186] Compiled cluster using XLA!  This line is logged at most once for the lifetime of the process.\n"
     ]
    },
    {
     "name": "stdout",
     "output_type": "stream",
     "text": [
      "162/162 [==============================] - ETA: 0s - loss: 0.1088 - accuracy: 0.7995\n",
      "Epoch 1: val_accuracy improved from -inf to 0.76635, saving model to best_model_3.h5\n",
      "162/162 [==============================] - 8s 22ms/step - loss: 0.1088 - accuracy: 0.7995 - val_loss: 0.1459 - val_accuracy: 0.7663\n",
      "Epoch 2/10\n",
      "  9/162 [>.............................] - ETA: 2s - loss: 0.0900 - accuracy: 0.8316"
     ]
    },
    {
     "name": "stderr",
     "output_type": "stream",
     "text": [
      "/home/duyphuoc/Desktop/heart_sound_new/venv/lib/python3.10/site-packages/keras/src/engine/training.py:3079: UserWarning: You are saving your model as an HDF5 file via `model.save()`. This file format is considered legacy. We recommend using instead the native Keras format, e.g. `model.save('my_model.keras')`.\n",
      "  saving_api.save_model(\n"
     ]
    },
    {
     "name": "stdout",
     "output_type": "stream",
     "text": [
      "161/162 [============================>.] - ETA: 0s - loss: 0.0906 - accuracy: 0.8348\n",
      "Epoch 2: val_accuracy did not improve from 0.76635\n",
      "162/162 [==============================] - 3s 16ms/step - loss: 0.0904 - accuracy: 0.8350 - val_loss: 0.1575 - val_accuracy: 0.7624\n",
      "Epoch 3/10\n",
      "161/162 [============================>.] - ETA: 0s - loss: 0.0867 - accuracy: 0.8388\n",
      "Epoch 3: val_accuracy improved from 0.76635 to 0.77445, saving model to best_model_3.h5\n",
      "162/162 [==============================] - 3s 16ms/step - loss: 0.0867 - accuracy: 0.8389 - val_loss: 0.1435 - val_accuracy: 0.7745\n",
      "Epoch 4/10\n",
      "161/162 [============================>.] - ETA: 0s - loss: 0.0832 - accuracy: 0.8447\n",
      "Epoch 4: val_accuracy did not improve from 0.77445\n",
      "162/162 [==============================] - 3s 16ms/step - loss: 0.0832 - accuracy: 0.8447 - val_loss: 0.1357 - val_accuracy: 0.7101\n",
      "Epoch 5/10\n",
      "161/162 [============================>.] - ETA: 0s - loss: 0.0817 - accuracy: 0.8486\n",
      "Epoch 5: val_accuracy improved from 0.77445 to 0.82060, saving model to best_model_3.h5\n",
      "162/162 [==============================] - 3s 16ms/step - loss: 0.0817 - accuracy: 0.8486 - val_loss: 0.1082 - val_accuracy: 0.8206\n",
      "Epoch 6/10\n",
      "161/162 [============================>.] - ETA: 0s - loss: 0.0793 - accuracy: 0.8515\n",
      "Epoch 6: val_accuracy improved from 0.82060 to 0.82176, saving model to best_model_3.h5\n",
      "162/162 [==============================] - 3s 16ms/step - loss: 0.0794 - accuracy: 0.8515 - val_loss: 0.1115 - val_accuracy: 0.8218\n",
      "Epoch 7/10\n",
      "161/162 [============================>.] - ETA: 0s - loss: 0.0768 - accuracy: 0.8563\n",
      "Epoch 7: val_accuracy did not improve from 0.82176\n",
      "162/162 [==============================] - 3s 16ms/step - loss: 0.0769 - accuracy: 0.8560 - val_loss: 0.1163 - val_accuracy: 0.8043\n",
      "Epoch 8/10\n",
      "161/162 [============================>.] - ETA: 0s - loss: 0.0770 - accuracy: 0.8555\n",
      "Epoch 8: val_accuracy did not improve from 0.82176\n",
      "162/162 [==============================] - 3s 16ms/step - loss: 0.0770 - accuracy: 0.8557 - val_loss: 0.1329 - val_accuracy: 0.7896\n",
      "Epoch 9/10\n",
      "161/162 [============================>.] - ETA: 0s - loss: 0.0751 - accuracy: 0.8599\n",
      "Epoch 9: val_accuracy improved from 0.82176 to 0.84505, saving model to best_model_3.h5\n",
      "162/162 [==============================] - 3s 16ms/step - loss: 0.0750 - accuracy: 0.8601 - val_loss: 0.0862 - val_accuracy: 0.8451\n",
      "Epoch 10/10\n",
      "161/162 [============================>.] - ETA: 0s - loss: 0.0741 - accuracy: 0.8598\n",
      "Epoch 10: val_accuracy did not improve from 0.84505\n",
      "162/162 [==============================] - 3s 16ms/step - loss: 0.0741 - accuracy: 0.8596 - val_loss: 0.0976 - val_accuracy: 0.8378\n"
     ]
    },
    {
     "data": {
      "image/png": "[encoded data removed]",
      "text/plain": [
       "<Figure size 1200x600 with 2 Axes>"
      ]
     },
     "metadata": {},
     "output_type": "display_data"
    }
   ],
   "source": [
    "history = model.fit(x_train,y_train,batch_size=128, epochs=10,validation_data=(x_test, y_test), callbacks=[model_checkpoint])\n",
    "show_history()"
   ]
  },
  {
   "cell_type": "code",
   "execution_count": null,
   "metadata": {},
   "outputs": [],
   "source": []
  }
 ],
 "metadata": {
  "kernelspec": {
   "display_name": "Python 3",
   "language": "python",
   "name": "python3"
  },
  "language_info": {
   "codemirror_mode": {
    "name": "ipython",
    "version": 3
   },
   "file_extension": ".py",
   "mimetype": "text/x-python",
   "name": "python",
   "nbconvert_exporter": "python",
   "pygments_lexer": "ipython3",
   "version": "3.10.12"
  }
 },
 "nbformat": 4,
 "nbformat_minor": 2
}
