{
 "cells": [
  {
   "cell_type": "code",
   "execution_count": 224,
   "metadata": {},
   "outputs": [],
   "source": [
    "import pandas as pd\n",
    "import numpy as np\n",
    "import librosa\n",
    "import librosa.display\n",
    "import matplotlib.pyplot as plt\n",
    "import os\n",
    "import shutil\n",
    "from sklearn.model_selection import train_test_split,StratifiedShuffleSplit\n",
    "from sklearn.preprocessing import LabelBinarizer\n",
    "import pickle\n",
    "import cv2"
   ]
  },
  {
   "cell_type": "code",
   "execution_count": 225,
   "metadata": {},
   "outputs": [
    {
     "data": {
      "text/plain": [
       "' \\n/training_data_all\\n        --->Unknown\\n        --->Absent\\n        --->Present\\n'"
      ]
     },
     "execution_count": 225,
     "metadata": {},
     "output_type": "execute_result"
    }
   ],
   "source": [
    "\"\"\" \n",
    "/training_data_all\n",
    "        --->Unknown\n",
    "        --->Absent\n",
    "        --->Present\n",
    "\"\"\""
   ]
  },
  {
   "cell_type": "code",
   "execution_count": 226,
   "metadata": {},
   "outputs": [],
   "source": [
    "def noise(data):\n",
    "    noise_amp = 0.05*np.random.uniform()*np.amax(data)\n",
    "    data = data + noise_amp*np.random.normal(size=data.shape[0])\n",
    "    return data\n",
    "\n",
    "# def pitch(data, sampling_rate, pitch_factor=0.8):\n",
    "#     return librosa.effects.pitch_shift(data, sampling_rate, pitch_factor)\n",
    "\n",
    "def higher_speed(data):\n",
    "    return librosa.effects.time_stretch(data, rate=1.2)\n",
    "\n",
    "def lower_speed(data):\n",
    "    return librosa.effects.time_stretch(data, rate=0.8)"
   ]
  },
  {
   "cell_type": "code",
   "execution_count": 229,
   "metadata": {},
   "outputs": [],
   "source": [
    "def get_label(label):\n",
    "    # print(folders)\n",
    "    y_data.append(label)\n",
    "\n",
    "def get_data(name_files,audio,time_limit,sr):\n",
    "\n",
    "    segment_length = time_limit * sr\n",
    "    num_segments = (len(audio) // segment_length)\n",
    "    for i in range(num_segments):\n",
    "        start_sample = i * segment_length\n",
    "        end_sample = (i + 1) * segment_length\n",
    "        segment = audio[start_sample:end_sample]\n",
    "        create_data(segment,n_fft,n_mels,hop_length)\n",
    "\n",
    "        label = name_files.split('/')[1]\n",
    "        get_label(label)\n",
    "def create_data (audio,n_fft,n_mels,hop_length):\n",
    "    mel_spectrogram = librosa.feature.melspectrogram(y=audio,n_fft= n_fft ,n_mels=n_mels,hop_length=hop_length)\n",
    "    mel_spectrogram_db = librosa.power_to_db(mel_spectrogram ,ref=np.max)\n",
    "    w,h= mel_spectrogram_db.shape\n",
    "    mel_spectrogram_db = mel_spectrogram_db.reshape([w,h,1])\n",
    "    x_data.append(mel_spectrogram_db)"
   ]
  },
  {
   "cell_type": "code",
   "execution_count": 234,
   "metadata": {},
   "outputs": [],
   "source": [
    "time_limit = 2\n",
    "sr = 4000\n",
    "n_fft = 512\n",
    "n_mels= 64\n",
    "hop_length = 126"
   ]
  },
  {
   "cell_type": "code",
   "execution_count": 235,
   "metadata": {},
   "outputs": [
    {
     "data": {
      "text/plain": [
       "(8954, 64, 64, 1)"
      ]
     },
     "execution_count": 235,
     "metadata": {},
     "output_type": "execute_result"
    }
   ],
   "source": [
    "x_data = []\n",
    "y_data = []\n",
    "dem = 0\n",
    "name_folders = \"training_data_all/Absent\"\n",
    "for file in os.listdir(name_folders):\n",
    "    if(dem<=800):\n",
    "        name_files = os.path.join(name_folders,file)\n",
    "        audio, sr = librosa.load(name_files, sr=sr)\n",
    "        get_data(name_files,audio,time_limit = time_limit,sr = sr)\n",
    "    dem = dem +1\n",
    "x_absent_spectrogram = x_data\n",
    "y_absent_spectrogram = y_data\n",
    "np.array(x_absent_spectrogram).shape"
   ]
  },
  {
   "cell_type": "code",
   "execution_count": 236,
   "metadata": {},
   "outputs": [
    {
     "data": {
      "text/plain": [
       "(6548, 64, 64, 1)"
      ]
     },
     "execution_count": 236,
     "metadata": {},
     "output_type": "execute_result"
    }
   ],
   "source": [
    "x_data = []\n",
    "y_data = []\n",
    "dem = 0\n",
    "name_folders = \"training_data_all/Present\"\n",
    "for file in os.listdir(name_folders):\n",
    "    if(True):\n",
    "        name_files = os.path.join(name_folders,file)\n",
    "        audio, sr = librosa.load(name_files, sr=sr)\n",
    "        get_data(name_files,audio,time_limit = time_limit,sr = sr)\n",
    "    dem = dem +1\n",
    "x_present_spectrogram = x_data\n",
    "y_present_spectrogram = y_data\n",
    "np.array(x_present_spectrogram).shape"
   ]
  },
  {
   "cell_type": "code",
   "execution_count": 237,
   "metadata": {},
   "outputs": [
    {
     "data": {
      "text/plain": [
       "(1662, 64, 64, 1)"
      ]
     },
     "execution_count": 237,
     "metadata": {},
     "output_type": "execute_result"
    }
   ],
   "source": [
    "x_data = []\n",
    "y_data = []\n",
    "dem = 0\n",
    "name_folders = \"training_data_all/Unknown\"\n",
    "for file in os.listdir(name_folders):\n",
    "    if(True):\n",
    "        name_files = os.path.join(name_folders,file)\n",
    "        audio, sr = librosa.load(name_files, sr=sr)\n",
    "        get_data(name_files,audio,time_limit = time_limit,sr = sr)\n",
    "    dem = dem +1\n",
    "x_unknown_spectrogram1 = x_data\n",
    "y_unknown_spectrogram1 = y_data\n",
    "np.array(x_unknown_spectrogram1).shape"
   ]
  },
  {
   "cell_type": "code",
   "execution_count": 238,
   "metadata": {},
   "outputs": [
    {
     "data": {
      "text/plain": [
       "(1662, 64, 64, 1)"
      ]
     },
     "execution_count": 238,
     "metadata": {},
     "output_type": "execute_result"
    }
   ],
   "source": [
    "x_data = []\n",
    "y_data = []\n",
    "dem = 0\n",
    "name_folders = \"training_data_all/Unknown\"\n",
    "for file in os.listdir(name_folders):\n",
    "    if(True):\n",
    "        name_files = os.path.join(name_folders,file)\n",
    "        audio, sr = librosa.load(name_files, sr=sr)\n",
    "        get_data(name_files,noise(audio),time_limit = time_limit,sr = sr)\n",
    "    dem = dem +1\n",
    "x_unknown_spectrogram2 = x_data\n",
    "y_unknown_spectrogram2 = y_data\n",
    "np.array(x_unknown_spectrogram2).shape"
   ]
  },
  {
   "cell_type": "code",
   "execution_count": 239,
   "metadata": {},
   "outputs": [
    {
     "data": {
      "text/plain": [
       "(1381, 64, 64, 1)"
      ]
     },
     "execution_count": 239,
     "metadata": {},
     "output_type": "execute_result"
    }
   ],
   "source": [
    "x_data = []\n",
    "y_data = []\n",
    "dem = 0\n",
    "name_folders = \"training_data_all/Unknown\"\n",
    "for file in os.listdir(name_folders):\n",
    "    if(True):\n",
    "        name_files = os.path.join(name_folders,file)\n",
    "        audio, sr = librosa.load(name_files, sr=sr)\n",
    "        get_data(name_files,higher_speed(audio),time_limit = time_limit,sr = sr)\n",
    "    dem = dem +1\n",
    "x_unknown_spectrogram3 = x_data\n",
    "y_unknown_spectrogram3 = y_data\n",
    "np.array(x_unknown_spectrogram3).shape"
   ]
  },
  {
   "cell_type": "code",
   "execution_count": 240,
   "metadata": {},
   "outputs": [
    {
     "data": {
      "text/plain": [
       "(2110, 64, 64, 1)"
      ]
     },
     "execution_count": 240,
     "metadata": {},
     "output_type": "execute_result"
    }
   ],
   "source": [
    "x_data = []\n",
    "y_data = []\n",
    "dem = 0\n",
    "name_folders = \"training_data_all/Unknown\"\n",
    "for file in os.listdir(name_folders):\n",
    "    if(True):\n",
    "        name_files = os.path.join(name_folders,file)\n",
    "        audio, sr = librosa.load(name_files, sr=sr)\n",
    "        get_data(name_files,lower_speed(audio),time_limit = time_limit,sr = sr)\n",
    "    dem = dem +1\n",
    "x_unknown_spectrogram4 = x_data\n",
    "y_unknown_spectrogram4 = y_data\n",
    "np.array(x_unknown_spectrogram4).shape"
   ]
  },
  {
   "cell_type": "code",
   "execution_count": 241,
   "metadata": {},
   "outputs": [],
   "source": [
    "x_data_spectrogram = np.concatenate((x_absent_spectrogram,\n",
    "                                     x_present_spectrogram,\n",
    "                                     x_unknown_spectrogram1,\n",
    "                                     x_unknown_spectrogram2,\n",
    "                                     x_unknown_spectrogram3,\n",
    "                                     x_unknown_spectrogram4),axis=0)\n",
    "y_data_spectrogram = np.concatenate((y_absent_spectrogram,\n",
    "                                     y_present_spectrogram,\n",
    "                                     y_unknown_spectrogram1,\n",
    "                                     y_unknown_spectrogram2,\n",
    "                                     y_unknown_spectrogram3,\n",
    "                                     y_unknown_spectrogram4),axis= 0)"
   ]
  },
  {
   "cell_type": "code",
   "execution_count": 269,
   "metadata": {},
   "outputs": [
    {
     "data": {
      "text/plain": [
       "(22071, 64, 64, 1)"
      ]
     },
     "execution_count": 269,
     "metadata": {},
     "output_type": "execute_result"
    }
   ],
   "source": [
    "x_data_spectrogram.shape"
   ]
  },
  {
   "cell_type": "code",
   "execution_count": 242,
   "metadata": {},
   "outputs": [],
   "source": [
    "\n",
    "def get_data_mfccs(name_files,audio,time_limit,sr):\n",
    "    segment_length = time_limit * sr\n",
    "    num_segments = (len(audio) // segment_length)\n",
    "    for i in range(num_segments):\n",
    "        start_sample = i * segment_length\n",
    "        end_sample = (i + 1) * segment_length\n",
    "        segment = audio[start_sample:end_sample]\n",
    "\n",
    "        create_data_mfccs(segment,n_mfcc)\n",
    "\n",
    "        label = name_files.split('/')[1]\n",
    "        get_label(label)\n",
    "def create_data_mfccs (audio,n_mfcc):\n",
    "    mel_mfcc = librosa.feature.mfcc(y=audio, sr=sr,n_mfcc=n_mfcc)\n",
    "    mel_mfcc= np.resize(mel_mfcc,(64,64))\n",
    "    mel_mfcc= np.reshape(mel_mfcc,(64,64,1))\n",
    "    x_data.append(mel_mfcc)"
   ]
  },
  {
   "cell_type": "code",
   "execution_count": 243,
   "metadata": {},
   "outputs": [],
   "source": [
    "\n",
    "n_mfcc = 64"
   ]
  },
  {
   "cell_type": "code",
   "execution_count": 244,
   "metadata": {},
   "outputs": [
    {
     "data": {
      "text/plain": [
       "(8708, 64, 64, 1)"
      ]
     },
     "execution_count": 244,
     "metadata": {},
     "output_type": "execute_result"
    }
   ],
   "source": [
    "x_data = []\n",
    "y_data = []\n",
    "dem = 0\n",
    "name_folders = \"training_data_all/Absent\"\n",
    "for file in os.listdir(name_folders):\n",
    "    if(800<dem<=1600):\n",
    "        name_files = os.path.join(name_folders,file)\n",
    "        audio, sr = librosa.load(name_files, sr=sr)\n",
    "        get_data_mfccs(name_files,audio,time_limit = time_limit,sr = sr)\n",
    "    dem = dem +1\n",
    "x_absent_mfccs = x_data\n",
    "y_absent_mfccs = y_data\n",
    "np.array(x_absent_mfccs).shape"
   ]
  },
  {
   "cell_type": "code",
   "execution_count": 245,
   "metadata": {},
   "outputs": [
    {
     "data": {
      "text/plain": [
       "(6548, 64, 64, 1)"
      ]
     },
     "execution_count": 245,
     "metadata": {},
     "output_type": "execute_result"
    }
   ],
   "source": [
    "x_data = []\n",
    "y_data = []\n",
    "dem = 0\n",
    "name_folders = \"training_data_all/Present\"\n",
    "for file in os.listdir(name_folders):\n",
    "    if(True):\n",
    "        name_files = os.path.join(name_folders,file)\n",
    "        audio, sr = librosa.load(name_files, sr=sr)\n",
    "        get_data_mfccs(name_files,audio,time_limit = time_limit,sr = sr)\n",
    "    dem = dem +1\n",
    "x_present_mfccs = x_data\n",
    "y_present_mfccs = y_data\n",
    "np.array(x_present_mfccs).shape"
   ]
  },
  {
   "cell_type": "code",
   "execution_count": 246,
   "metadata": {},
   "outputs": [
    {
     "data": {
      "text/plain": [
       "(1662, 64, 64, 1)"
      ]
     },
     "execution_count": 246,
     "metadata": {},
     "output_type": "execute_result"
    }
   ],
   "source": [
    "x_data = []\n",
    "y_data = []\n",
    "dem = 0\n",
    "name_folders = \"training_data_all/Unknown\"\n",
    "for file in os.listdir(name_folders):\n",
    "    if(True):\n",
    "        name_files = os.path.join(name_folders,file)\n",
    "        audio, sr = librosa.load(name_files, sr=sr)\n",
    "        get_data_mfccs(name_files,audio,time_limit = time_limit,sr = sr)\n",
    "    dem = dem +1\n",
    "x_unknown_mfccs1 = x_data\n",
    "y_unknown_mfccs1 = y_data\n",
    "np.array(x_unknown_mfccs1).shape"
   ]
  },
  {
   "cell_type": "code",
   "execution_count": 247,
   "metadata": {},
   "outputs": [
    {
     "data": {
      "text/plain": [
       "(1662, 64, 64, 1)"
      ]
     },
     "execution_count": 247,
     "metadata": {},
     "output_type": "execute_result"
    }
   ],
   "source": [
    "x_data = []\n",
    "y_data = []\n",
    "dem = 0\n",
    "name_folders = \"training_data_all/Unknown\"\n",
    "for file in os.listdir(name_folders):\n",
    "    if(True):\n",
    "        name_files = os.path.join(name_folders,file)\n",
    "        audio, sr = librosa.load(name_files, sr=sr)\n",
    "        get_data_mfccs(name_files,noise(audio),time_limit = time_limit,sr = sr)\n",
    "    dem = dem +1\n",
    "x_unknown_mfccs2 = x_data\n",
    "y_unknown_mfccs2 = y_data\n",
    "np.array(x_unknown_mfccs2).shape"
   ]
  },
  {
   "cell_type": "code",
   "execution_count": 248,
   "metadata": {},
   "outputs": [
    {
     "data": {
      "text/plain": [
       "(1381, 64, 64, 1)"
      ]
     },
     "execution_count": 248,
     "metadata": {},
     "output_type": "execute_result"
    }
   ],
   "source": [
    "x_data = []\n",
    "y_data = []\n",
    "dem = 0\n",
    "name_folders = \"training_data_all/Unknown\"\n",
    "for file in os.listdir(name_folders):\n",
    "    if(True):\n",
    "        name_files = os.path.join(name_folders,file)\n",
    "        audio, sr = librosa.load(name_files, sr=sr)\n",
    "        get_data_mfccs(name_files,higher_speed(audio),time_limit = time_limit,sr = sr)\n",
    "    dem = dem +1\n",
    "x_unknown_mfccs3 = x_data\n",
    "y_unknown_mfccs3 = y_data\n",
    "np.array(x_unknown_mfccs3).shape"
   ]
  },
  {
   "cell_type": "code",
   "execution_count": 249,
   "metadata": {},
   "outputs": [
    {
     "data": {
      "text/plain": [
       "(2110, 64, 64, 1)"
      ]
     },
     "execution_count": 249,
     "metadata": {},
     "output_type": "execute_result"
    }
   ],
   "source": [
    "x_data = []\n",
    "y_data = []\n",
    "dem = 0\n",
    "name_folders = \"training_data_all/Unknown\"\n",
    "for file in os.listdir(name_folders):\n",
    "    if(True):\n",
    "        name_files = os.path.join(name_folders,file)\n",
    "        audio, sr = librosa.load(name_files, sr=sr)\n",
    "        get_data_mfccs(name_files,lower_speed(audio),time_limit = time_limit,sr = sr)\n",
    "    dem = dem +1\n",
    "x_unknown_mfccs4 = x_data\n",
    "y_unknown_mfccs4 = y_data\n",
    "np.array(x_unknown_mfccs4).shape"
   ]
  },
  {
   "cell_type": "code",
   "execution_count": 251,
   "metadata": {},
   "outputs": [],
   "source": [
    "x_data_mfccs = np.concatenate((x_absent_mfccs,\n",
    "                                     x_present_mfccs,\n",
    "                                     x_unknown_mfccs1,\n",
    "                                     x_unknown_mfccs2,\n",
    "                                     x_unknown_mfccs3,\n",
    "                                     x_unknown_mfccs4),axis=0)\n",
    "y_data_mfccs = np.concatenate((y_absent_mfccs,\n",
    "                                     y_present_mfccs,\n",
    "                                     y_unknown_mfccs1,\n",
    "                                     y_unknown_mfccs2,\n",
    "                                     y_unknown_mfccs3,\n",
    "                                     y_unknown_mfccs4),axis= 0)"
   ]
  },
  {
   "cell_type": "code",
   "execution_count": 268,
   "metadata": {},
   "outputs": [
    {
     "data": {
      "text/plain": [
       "(22071, 64, 64, 1)"
      ]
     },
     "execution_count": 268,
     "metadata": {},
     "output_type": "execute_result"
    }
   ],
   "source": [
    "x_data_mfccs.shape"
   ]
  },
  {
   "cell_type": "code",
   "execution_count": 253,
   "metadata": {},
   "outputs": [],
   "source": [
    "n_fft=512\n",
    "hop_length=1250\n",
    "sr=4000"
   ]
  },
  {
   "cell_type": "code",
   "execution_count": 254,
   "metadata": {},
   "outputs": [],
   "source": [
    "\n",
    "def get_data_chroma(name_files,audio,time_limit,sr):\n",
    "\n",
    "    segment_length = time_limit * sr\n",
    "    num_segments = (len(audio) // segment_length)\n",
    "    for i in range(num_segments):\n",
    "        start_sample = i * segment_length\n",
    "        end_sample = (i + 1) * segment_length\n",
    "        segment = audio[start_sample:end_sample]\n",
    "\n",
    "        create_data_chroma(segment,n_fft,hop_length)\n",
    "\n",
    "        label = name_files.split('/')[1]\n",
    "        get_label(label)\n",
    "def create_data_chroma (audio,n_fft,hop_length):\n",
    "    chromagram = librosa.feature.chroma_stft(y=audio,n_fft=n_fft,hop_length=hop_length)\n",
    "    chromagram = cv2.resize(chromagram, (64,64))\n",
    "    chromagram= np.resize(chromagram,(64,64,1))\n",
    "    x_data.append(chromagram)"
   ]
  },
  {
   "cell_type": "code",
   "execution_count": 255,
   "metadata": {},
   "outputs": [
    {
     "name": "stderr",
     "output_type": "stream",
     "text": [
      "/home/duyphuoc/Desktop/heart_sound_new/venv/lib/python3.10/site-packages/librosa/core/pitch.py:101: UserWarning: Trying to estimate tuning from empty frequency set.\n",
      "  return pitch_tuning(\n"
     ]
    },
    {
     "data": {
      "text/plain": [
       "(8686, 64, 64, 1)"
      ]
     },
     "execution_count": 255,
     "metadata": {},
     "output_type": "execute_result"
    }
   ],
   "source": [
    "x_data = []\n",
    "y_data = []\n",
    "dem = 0\n",
    "name_folders = \"training_data_all/Absent\"\n",
    "for file in os.listdir(name_folders):\n",
    "    if(dem>1600):\n",
    "        name_files = os.path.join(name_folders,file)\n",
    "        audio, sr = librosa.load(name_files, sr=sr)\n",
    "        get_data_chroma(name_files,audio,time_limit = time_limit,sr = sr)\n",
    "    dem = dem +1 \n",
    "x_absent_chroma= x_data\n",
    "y_absent_chroma = y_data\n",
    "np.array(x_absent_chroma).shape"
   ]
  },
  {
   "cell_type": "code",
   "execution_count": 261,
   "metadata": {},
   "outputs": [
    {
     "name": "stderr",
     "output_type": "stream",
     "text": [
      "/home/duyphuoc/Desktop/heart_sound_new/venv/lib/python3.10/site-packages/librosa/core/pitch.py:101: UserWarning: Trying to estimate tuning from empty frequency set.\n",
      "  return pitch_tuning(\n"
     ]
    },
    {
     "data": {
      "text/plain": [
       "(6548, 64, 64, 1)"
      ]
     },
     "execution_count": 261,
     "metadata": {},
     "output_type": "execute_result"
    }
   ],
   "source": [
    "x_data = []\n",
    "y_data = []\n",
    "dem = 0\n",
    "name_folders = \"training_data_all/Present\"\n",
    "for file in os.listdir(name_folders):\n",
    "    if(True):\n",
    "        name_files = os.path.join(name_folders,file)\n",
    "        audio, sr = librosa.load(name_files, sr=sr)\n",
    "        get_data_chroma(name_files,audio,time_limit = time_limit,sr = sr)\n",
    "    dem = dem +1\n",
    "x_present_chroma = x_data\n",
    "y_present_chroma = y_data\n",
    "np.array(x_present_chroma).shape"
   ]
  },
  {
   "cell_type": "code",
   "execution_count": 262,
   "metadata": {},
   "outputs": [
    {
     "data": {
      "text/plain": [
       "(1662, 64, 64, 1)"
      ]
     },
     "execution_count": 262,
     "metadata": {},
     "output_type": "execute_result"
    }
   ],
   "source": [
    "x_data = []\n",
    "y_data = []\n",
    "dem = 0\n",
    "name_folders = \"training_data_all/Unknown\"\n",
    "for file in os.listdir(name_folders):\n",
    "    if(True):\n",
    "        name_files = os.path.join(name_folders,file)\n",
    "        audio, sr = librosa.load(name_files, sr=sr)\n",
    "        get_data_chroma(name_files,audio,time_limit = time_limit,sr = sr)\n",
    "    dem = dem +1\n",
    "x_unknown_chroma1 = x_data\n",
    "y_unknown_chroma1 = y_data\n",
    "np.array(x_unknown_chroma1).shape"
   ]
  },
  {
   "cell_type": "code",
   "execution_count": 263,
   "metadata": {},
   "outputs": [
    {
     "data": {
      "text/plain": [
       "(1662, 64, 64, 1)"
      ]
     },
     "execution_count": 263,
     "metadata": {},
     "output_type": "execute_result"
    }
   ],
   "source": [
    "x_data = []\n",
    "y_data = []\n",
    "dem = 0\n",
    "name_folders = \"training_data_all/Unknown\"\n",
    "for file in os.listdir(name_folders):\n",
    "    if(True):\n",
    "        name_files = os.path.join(name_folders,file)\n",
    "        audio, sr = librosa.load(name_files, sr=sr)\n",
    "        get_data_chroma(name_files,noise(audio),time_limit = time_limit,sr = sr)\n",
    "    dem = dem +1\n",
    "x_unknown_chroma2 = x_data\n",
    "y_unknown_chroma2 = y_data\n",
    "np.array(x_unknown_chroma2).shape"
   ]
  },
  {
   "cell_type": "code",
   "execution_count": 264,
   "metadata": {},
   "outputs": [
    {
     "data": {
      "text/plain": [
       "(1381, 64, 64, 1)"
      ]
     },
     "execution_count": 264,
     "metadata": {},
     "output_type": "execute_result"
    }
   ],
   "source": [
    "x_data = []\n",
    "y_data = []\n",
    "dem = 0\n",
    "name_folders = \"training_data_all/Unknown\"\n",
    "for file in os.listdir(name_folders):\n",
    "    if(True):\n",
    "        name_files = os.path.join(name_folders,file)\n",
    "        audio, sr = librosa.load(name_files, sr=sr)\n",
    "        get_data_chroma(name_files,higher_speed(audio),time_limit = time_limit,sr = sr)\n",
    "    dem = dem +1\n",
    "x_unknown_chroma3 = x_data\n",
    "y_unknown_chroma3 = y_data\n",
    "np.array(x_unknown_chroma3).shape"
   ]
  },
  {
   "cell_type": "code",
   "execution_count": 265,
   "metadata": {},
   "outputs": [
    {
     "data": {
      "text/plain": [
       "(2110, 64, 64, 1)"
      ]
     },
     "execution_count": 265,
     "metadata": {},
     "output_type": "execute_result"
    }
   ],
   "source": [
    "x_data = []\n",
    "y_data = []\n",
    "dem = 0\n",
    "name_folders = \"training_data_all/Unknown\"\n",
    "for file in os.listdir(name_folders):\n",
    "    if(True):\n",
    "        name_files = os.path.join(name_folders,file)\n",
    "        audio, sr = librosa.load(name_files, sr=sr)\n",
    "        get_data_chroma(name_files,lower_speed(audio),time_limit = time_limit,sr = sr)\n",
    "    dem = dem +1\n",
    "x_unknown_chroma4 = x_data\n",
    "y_unknown_chroma4 = y_data\n",
    "np.array(x_unknown_chroma4).shape"
   ]
  },
  {
   "cell_type": "code",
   "execution_count": 266,
   "metadata": {},
   "outputs": [],
   "source": [
    "x_data_chroma = np.concatenate((x_absent_chroma,\n",
    "                                     x_present_chroma,\n",
    "                                     x_unknown_chroma1,\n",
    "                                     x_unknown_chroma2,\n",
    "                                     x_unknown_chroma3,\n",
    "                                     x_unknown_chroma4),axis=0)\n",
    "y_data_chroma = np.concatenate((y_absent_chroma,\n",
    "                                     y_present_chroma,\n",
    "                                     y_unknown_chroma1,\n",
    "                                     y_unknown_chroma2,\n",
    "                                     y_unknown_chroma3,\n",
    "                                     y_unknown_chroma4),axis= 0)"
   ]
  },
  {
   "cell_type": "code",
   "execution_count": 267,
   "metadata": {},
   "outputs": [
    {
     "data": {
      "text/plain": [
       "(22049, 64, 64, 1)"
      ]
     },
     "execution_count": 267,
     "metadata": {},
     "output_type": "execute_result"
    }
   ],
   "source": [
    "x_data_chroma.shape"
   ]
  },
  {
   "cell_type": "code",
   "execution_count": 295,
   "metadata": {},
   "outputs": [],
   "source": [
    "x_data_all = []\n",
    "x_data_all.append(x_data_spectrogram)\n",
    "x_data_all.append(x_data_mfccs)\n",
    "x_data_all.append(x_data_chroma)\n",
    "\n",
    "y_data_all = []\n",
    "y_data_all.append(y_data_spectrogram)\n",
    "y_data_all.append(y_data_mfccs)\n",
    "y_data_all.append(y_data_chroma)"
   ]
  },
  {
   "cell_type": "code",
   "execution_count": 303,
   "metadata": {},
   "outputs": [
    {
     "ename": "",
     "evalue": "",
     "output_type": "error",
     "traceback": [
      "\u001b[1;31mThe Kernel crashed while executing code in the the current cell or a previous cell. Please review the code in the cell(s) to identify a possible cause of the failure. Click <a href='https://aka.ms/vscodeJupyterKernelCrash'>here</a> for more info. View Jupyter <a href='command:jupyter.viewOutput'>log</a> for further details."
     ]
    }
   ],
   "source": [
    "\n",
    "file = open('data_all.csv','wb')\n",
    "pickle.dump((x_data_all,y_data_all),file)\n",
    "file.close()"
   ]
  }
 ],
 "metadata": {
  "kernelspec": {
   "display_name": "Python 3",
   "language": "python",
   "name": "python3"
  },
  "language_info": {
   "codemirror_mode": {
    "name": "ipython",
    "version": 3
   },
   "file_extension": ".py",
   "mimetype": "text/x-python",
   "name": "python",
   "nbconvert_exporter": "python",
   "pygments_lexer": "ipython3",
   "version": "3.10.12"
  }
 },
 "nbformat": 4,
 "nbformat_minor": 2
}
