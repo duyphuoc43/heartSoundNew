{
 "cells": [
  {
   "cell_type": "code",
   "execution_count": 1,
   "metadata": {},
   "outputs": [
    {
     "name": "stdout",
     "output_type": "stream",
     "text": [
      "29.68\n"
     ]
    }
   ],
   "source": [
    "import librosa\n",
    "import librosa.display\n",
    "import matplotlib.pyplot as plt\n",
    "\n",
    "# Đọc tệp âm thanh\n",
    "audio_file = \"training_data_all/Absent/0.02025_50008_TV.wav\"\n",
    "y, sr = librosa.load(audio_file,sr=4000)\n",
    "print(len(y)/sr)\n",
    "\n",
    "# Tạo spectrogram Mel với n_fft khác nhau\n",
    "n_fft_small = 512\n",
    "n_fft_large = 4096\n",
    "\n",
    "# Tạo spectrogram với n_fft nhỏ\n",
    "spec_small = librosa.feature.melspectrogram(y=y, sr=sr,hop_length=465,n_mels= 256, n_fft=620)\n",
    "spec_small = librosa.power_to_db(spec_small)\n",
    "\n",
    "# Tạo spectrogram với n_fft lớn\n",
    "spec_large = librosa.feature.melspectrogram(y=y, sr=sr,n_fft=n_fft_large)\n",
    "spec_large = librosa.power_to_db(spec_large)\n",
    "print(spec_small.shape)\n",
    "print(spec_large.shape)\n",
    "\n",
    "# # Vẽ spectrogram\n",
    "plt.figure(figsize=(12, 6))\n",
    "\n",
    "plt.subplot(2, 1, 1)\n",
    "librosa.display.specshow(spec_small, y_axis='mel', x_axis='time')\n",
    "plt.title(f'Spectrogram with n_fft={n_fft_small}')\n",
    "\n",
    "# plt.subplot(2, 1, 2)\n",
    "# librosa.display.specshow(spec_large, y_axis='mel', x_axis='time')\n",
    "# plt.title(f'Spectrogram with n_fft={n_fft_large}')\n",
    "\n",
    "# plt.tight_layout()\n",
    "# plt.show()"
   ]
  },
  {
   "cell_type": "code",
   "execution_count": 2,
   "metadata": {},
   "outputs": [],
   "source": [
    "import librosa\n",
    "import librosa.display\n",
    "import matplotlib.pyplot as plt\n",
    "\n",
    "# Đọc tệp âm thanh\n",
    "y, sr = librosa.load(audio_file)\n",
    "\n",
    "# Tạo spectrogram Mel với hop_length khác nhau\n",
    "hop_length_small = 512\n",
    "hop_length_large = 2048\n",
    "\n",
    "# Tạo spectrogram với hop_length nhỏ\n",
    "spec_small = librosa.feature.melspectrogram(y=y, sr=sr, hop_length=hop_length_small)\n",
    "spec_small = librosa.power_to_db(spec_small)\n",
    "\n",
    "# Tạo spectrogram với hop_length lớn\n",
    "spec_large = librosa.feature.melspectrogram(y=y, sr=sr, hop_length=hop_length_large)\n",
    "spec_large = librosa.power_to_db(spec_large)\n",
    "\n",
    "# Vẽ spectrogram\n",
    "plt.figure(figsize=(12, 6))\n",
    "\n",
    "plt.subplot(2, 1, 1)\n",
    "librosa.display.specshow(spec_small, y_axis='mel', x_axis='time')\n",
    "plt.title(f'Spectrogram with hop_length={hop_length_small}')\n",
    "\n",
    "plt.subplot(2, 1, 2)\n",
    "librosa.display.specshow(spec_large, y_axis='mel', x_axis='time')\n",
    "plt.title(f'Spectrogram with hop_length={hop_length_large}')\n",
    "\n",
    "plt.tight_layout()\n",
    "plt.show()\n"
   ]
  },
  {
   "cell_type": "code",
   "execution_count": null,
   "metadata": {},
   "outputs": [],
   "source": [
    "import librosa\n",
    "import librosa.display\n",
    "import matplotlib.pyplot as plt\n",
    "\n",
    "# Đọc tệp âm thanh\n",
    "y, sr = librosa.load(audio_file)\n",
    "\n",
    "# Tạo spectrogram Mel với n_mels khác nhau\n",
    "n_mels_low = 64\n",
    "n_mels_high = 256\n",
    "\n",
    "# Tạo spectrogram với n_mels thấp\n",
    "spec_low = librosa.feature.melspectrogram(y=y, sr=sr, n_mels=n_mels_low)\n",
    "spec_low = librosa.power_to_db(spec_low)\n",
    "\n",
    "# Tạo spectrogram với n_mels cao\n",
    "spec_high = librosa.feature.melspectrogram(y=y, sr=sr, n_mels=n_mels_high)\n",
    "spec_high = librosa.power_to_db(spec_high)\n",
    "\n",
    "# Vẽ spectrogram\n",
    "plt.figure(figsize=(12, 6))\n",
    "\n",
    "plt.subplot(2, 1, 1)\n",
    "librosa.display.specshow(spec_low, y_axis='mel', x_axis='time')\n",
    "plt.title(f'Spectrogram with n_mels={n_mels_low}')\n",
    "\n",
    "plt.subplot(2, 1, 2)\n",
    "librosa.display.specshow(spec_high, y_axis='mel', x_axis='time')\n",
    "plt.title(f'Spectrogram with n_mels={n_mels_high}')\n",
    "\n",
    "plt.tight_layout()\n",
    "plt.show()\n"
   ]
  },
  {
   "cell_type": "markdown",
   "metadata": {},
   "source": []
  }
 ],
 "metadata": {
  "kernelspec": {
   "display_name": "Python 3",
   "language": "python",
   "name": "python3"
  },
  "language_info": {
   "codemirror_mode": {
    "name": "ipython",
    "version": 3
   },
   "file_extension": ".py",
   "mimetype": "text/x-python",
   "name": "python",
   "nbconvert_exporter": "python",
   "pygments_lexer": "ipython3",
   "version": "3.8.10"
  }
 },
 "nbformat": 4,
 "nbformat_minor": 2
}
