{
 "cells": [
  {
   "cell_type": "code",
   "execution_count": 12,
   "metadata": {},
   "outputs": [],
   "source": [
    "import pandas as pd\n",
    "import numpy as np\n",
    "import librosa\n",
    "import librosa.display\n",
    "import matplotlib.pyplot as plt\n",
    "import os\n",
    "import shutil"
   ]
  },
  {
   "cell_type": "code",
   "execution_count": 13,
   "metadata": {},
   "outputs": [],
   "source": [
    "def time_start(name_file):\n",
    "    file_tsv = name_file[:-3]+'tsv'\n",
    "    # Đọc tệp TSV bằng pandas\n",
    "    # print(file_tsv)\n",
    "    df = pd.read_csv(file_tsv, delimiter='\\t')\n",
    "    df=df.iloc\n",
    "    df0 = df[:,0]\n",
    "    df2 = df[:,2]\n",
    "    for i in range(len(df2)):\n",
    "        if(df2[i]==1):\n",
    "            time = df0[i]\n",
    "            break\n",
    "    return df0[i]"
   ]
  },
  {
   "cell_type": "code",
   "execution_count": 14,
   "metadata": {},
   "outputs": [],
   "source": [
    "# data = 'training_data'\n",
    "\n",
    "# out_file = 'training_data_all/'\n",
    "# for file in os.listdir(data):\n",
    "#     if(file.endswith(\".wav\") == True):\n",
    "\n",
    "#         name_file = os.path.join(data,file)\n",
    "#         time_begin = (time_start(name_file))\n",
    "#         file_txt = (name_file.split('_')[0])+'_'+(name_file.split('_')[1])+'.txt'\n",
    "#         # print(file_txt)\n",
    "#         df = pd.read_csv(file_txt)\n",
    "#         df=np.array(df)\n",
    "#         # print(df)\n",
    "#         if (df == '#Murmur: Absent').any().any():\n",
    "#             # print('Absent')\n",
    "#             shutil.copy(name_file, out_file +'Absent/'+str(time_begin)+'_'+file)\n",
    "#         elif (df == '#Murmur: Present').any().any():\n",
    "#             # print('Present')\n",
    "#             shutil.copy(name_file, out_file +'Present/'+str(time_begin)+'_'+file)\n",
    "#         elif (df == '#Murmur: Unknown').any().any():\n",
    "#             # print('Unknown')\n",
    "#             shutil.copy(name_file, out_file +'Unknown/'+str(time_begin)+'_'+file)"
   ]
  },
  {
   "cell_type": "code",
   "execution_count": 15,
   "metadata": {},
   "outputs": [
    {
     "data": {
      "text/plain": [
       "' \\n/training_data_all\\n        --->Unknown\\n        --->Absent\\n        --->Present\\n'"
      ]
     },
     "execution_count": 15,
     "metadata": {},
     "output_type": "execute_result"
    }
   ],
   "source": [
    "\"\"\" \n",
    "/training_data_all\n",
    "        --->Unknown\n",
    "        --->Absent\n",
    "        --->Present\n",
    "\"\"\""
   ]
  },
  {
   "cell_type": "code",
   "execution_count": 16,
   "metadata": {},
   "outputs": [],
   "source": [
    "def show_spectrogram (file):\n",
    "    audio, sr = librosa.load(file,sr=4000)\n",
    "    mel_spectrogram = librosa.feature.melspectrogram(y=audio, sr=sr,n_fft= 200 ,n_mels=64,hop_length=300)\n",
    "    mel_spectrogram_db = librosa.power_to_db(mel_spectrogram ,ref=np.max)\n",
    "\n",
    "    fig, ax = plt.subplots(figsize=(10,4))\n",
    "    a =librosa.display.specshow(mel_spectrogram_db,\n",
    "                            x_axis='time',\n",
    "                            y_axis='linear',\n",
    "                            sr=sr,\n",
    "                            hop_length=512,\n",
    "                            )\n",
    "    plt.title(\"Audio Spectrogram Representation\")\n",
    "    plt.colorbar(format='%+2.0f dB')\n",
    "    plt.xlabel(\"Time(s)\")\n",
    "    plt.ylabel(\"Frequency (Hz)\")\n",
    "    plt.show()\n"
   ]
  },
  {
   "cell_type": "code",
   "execution_count": 80,
   "metadata": {},
   "outputs": [],
   "source": [
    "# audio_file_absent = \"training_data_all/Absent/0.02025_49745_TV.wav\"\n",
    "# audio_file_present = \"training_data_all/Present/0.08025_85031_AV.wav\"\n",
    "# audio_file_unknown = \"training_data_all/Unknown/0.720351_49761_MV.wav\"\n",
    "# show_spectrogram(audio_file_absent)\n",
    "# show_spectrogram(audio_file_present)\n",
    "# show_spectrogram(audio_file_unknown)"
   ]
  },
  {
   "cell_type": "code",
   "execution_count": 96,
   "metadata": {},
   "outputs": [
    {
     "name": "stdout",
     "output_type": "stream",
     "text": [
      "Absent\n",
      "Present\n",
      "Unknown\n"
     ]
    }
   ],
   "source": [
    "data_train = 'training_data_all'\n",
    "data_time = []\n",
    "for folders in os.listdir(data_train):\n",
    "    print(folders)\n",
    "    name_folders = os.path.join(data_train,folders)\n",
    "    for file in os.listdir(name_folders):\n",
    "        name_files = os.path.join(name_folders,file)\n",
    "        y,sr = librosa.load(name_files,sr=4000)\n",
    "        audio_duration = (len(y)/sr)\n",
    "        data_time.append(audio_duration)"
   ]
  },
  {
   "cell_type": "code",
   "execution_count": 127,
   "metadata": {},
   "outputs": [
    {
     "data": {
      "text/plain": [
       "5.152"
      ]
     },
     "execution_count": 127,
     "metadata": {},
     "output_type": "execute_result"
    }
   ],
   "source": [
    "np.min(data_time)\n"
   ]
  },
  {
   "cell_type": "code",
   "execution_count": 133,
   "metadata": {},
   "outputs": [],
   "source": [
    "def create_data (audio,file,sr):\n",
    "    mel_spectrogram = librosa.feature.melspectrogram(y=audio, sr=sr,n_fft= 256 ,n_mels=64,hop_length=157)\n",
    "    mel_spectrogram_db = librosa.power_to_db(mel_spectrogram ,ref=np.max)\n",
    "    # print(mel_spectrogram.shape)\n",
    "    # print(mel_spectrogram_db.shape)\n",
    "    x_data.append(mel_spectrogram_db)\n"
   ]
  },
  {
   "cell_type": "code",
   "execution_count": 145,
   "metadata": {},
   "outputs": [],
   "source": [
    "def split_audio(name_files,file,time_limit,sr):\n",
    "    audio, sr = librosa.load(name_files, sr=sr)\n",
    "    file = file[:-4]\n",
    "\n",
    "    segment_length = time_limit * sr\n",
    "\n",
    "    num_segments = (len(audio) // segment_length)\n",
    "    # print(num_segments)\n",
    "    for i in range(num_segments):\n",
    "        start_sample = i * segment_length\n",
    "        end_sample = (i + 1) * segment_length\n",
    "        # Cắt phần âm thanh\n",
    "        segment = audio[start_sample:end_sample]\n",
    "        create_data(segment,file,sr)"
   ]
  },
  {
   "cell_type": "code",
   "execution_count": 146,
   "metadata": {},
   "outputs": [],
   "source": [
    "def get_label(folders):\n",
    "    # print(folders)\n",
    "    y_data.append(folders)"
   ]
  },
  {
   "cell_type": "code",
   "execution_count": 147,
   "metadata": {},
   "outputs": [],
   "source": [
    "def get_date(name_files,file,time_limit,sr = 4000):\n",
    "    # print(name_files)\n",
    "    split_audio(name_files,file,time_limit,sr)"
   ]
  },
  {
   "cell_type": "code",
   "execution_count": 148,
   "metadata": {},
   "outputs": [
    {
     "name": "stdout",
     "output_type": "stream",
     "text": [
      "Absent\n",
      "Present\n",
      "Unknown\n"
     ]
    }
   ],
   "source": [
    "data_train = 'training_data_all'\n",
    "x_data = []\n",
    "y_data = []\n",
    "for folders in os.listdir(data_train):\n",
    "    print(folders)\n",
    "    name_folders = os.path.join(data_train,folders)\n",
    "    for file in os.listdir(name_folders):\n",
    "        name_files = os.path.join(name_folders,file)\n",
    "        get_label(folders)\n",
    "        get_date(name_files,file,time_limit = 5,sr = 4000)"
   ]
  },
  {
   "cell_type": "code",
   "execution_count": 149,
   "metadata": {},
   "outputs": [
    {
     "name": "stdout",
     "output_type": "stream",
     "text": [
      "(12940, 64, 128)\n",
      "(3162,)\n"
     ]
    }
   ],
   "source": [
    "print(np.array(x_data).shape)\n",
    "print(np.array(y_data).shape)"
   ]
  },
  {
   "cell_type": "code",
   "execution_count": null,
   "metadata": {},
   "outputs": [],
   "source": []
  }
 ],
 "metadata": {
  "kernelspec": {
   "display_name": "Python 3",
   "language": "python",
   "name": "python3"
  },
  "language_info": {
   "codemirror_mode": {
    "name": "ipython",
    "version": 3
   },
   "file_extension": ".py",
   "mimetype": "text/x-python",
   "name": "python",
   "nbconvert_exporter": "python",
   "pygments_lexer": "ipython3",
   "version": "3.8.10"
  }
 },
 "nbformat": 4,
 "nbformat_minor": 2
}
