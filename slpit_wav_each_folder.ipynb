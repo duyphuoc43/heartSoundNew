{
 "cells": [
  {
   "cell_type": "code",
   "execution_count": 5,
   "metadata": {},
   "outputs": [],
   "source": [
    "import pandas as pd\n",
    "import numpy as np\n",
    "import librosa\n",
    "import librosa.display\n",
    "import matplotlib.pyplot as plt\n",
    "import os\n",
    "import shutil\n",
    "from sklearn.model_selection import train_test_split \n",
    "from sklearn.preprocessing import LabelBinarizer\n",
    "from sklearn.model_selection import StratifiedShuffleSplit\n",
    "import pickle"
   ]
  },
  {
   "cell_type": "code",
   "execution_count": 6,
   "metadata": {},
   "outputs": [],
   "source": [
    "def time_start(name_file):\n",
    "    file_tsv = name_file[:-4]+\".tsv\"\n",
    "    df = pd.read_csv(file_tsv)\n",
    "    df = np.array(df)\n",
    "    # print(len(df))\n",
    "    # print(df[0][0].split('\\t')[0])\n",
    "    # print(df[len(df)-1][0].split('\\t')[0])\n",
    "    start = (df[0][0].split('\\t')[0])\n",
    "    end = (df[len(df)-1][0].split('\\t')[0])\n",
    "    return start+\"_\"+end\n"
   ]
  },
  {
   "cell_type": "code",
   "execution_count": 8,
   "metadata": {},
   "outputs": [],
   "source": [
    "## Chia file.wav ra moi folder\n",
    "\n",
    "data = 'training_data'\n",
    "\n",
    "out_file = 'training_data_all/'\n",
    "for file in os.listdir(data):\n",
    "    if(file.endswith(\".wav\") == True):\n",
    "\n",
    "        name_file = os.path.join(data,file)\n",
    "        time = (time_start(name_file))\n",
    "        file_txt = (name_file.split('_')[0])+'_'+(name_file.split('_')[1])+'.txt'\n",
    "        # print(file_txt)\n",
    "        df = pd.read_csv(file_txt)\n",
    "        df=np.array(df)\n",
    "        # print(df)\n",
    "        if (df == '#Murmur: Absent').any().any():\n",
    "            # print('Absent')\n",
    "            shutil.copy(name_file, out_file +'Absent/'+str(time)+'_'+file)\n",
    "        elif (df == '#Murmur: Present').any().any():\n",
    "            # print('Present')\n",
    "            shutil.copy(name_file, out_file +'Present/'+str(time)+'_'+file)\n",
    "        elif (df == '#Murmur: Unknown').any().any():\n",
    "            # print('Unknown')\n",
    "            shutil.copy(name_file, out_file +'Unknown/'+str(time)+'_'+file)"
   ]
  },
  {
   "cell_type": "code",
   "execution_count": null,
   "metadata": {},
   "outputs": [],
   "source": []
  }
 ],
 "metadata": {
  "kernelspec": {
   "display_name": "venv",
   "language": "python",
   "name": "python3"
  },
  "language_info": {
   "codemirror_mode": {
    "name": "ipython",
    "version": 3
   },
   "file_extension": ".py",
   "mimetype": "text/x-python",
   "name": "python",
   "nbconvert_exporter": "python",
   "pygments_lexer": "ipython3",
   "version": "3.10.12"
  }
 },
 "nbformat": 4,
 "nbformat_minor": 2
}
